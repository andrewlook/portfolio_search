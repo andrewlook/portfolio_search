{
 "cells": [
  {
   "cell_type": "markdown",
   "metadata": {},
   "source": [
    "# e2e\n",
    "\n",
    "> Fill in a module description here"
   ]
  },
  {
   "cell_type": "code",
   "execution_count": null,
   "metadata": {},
   "outputs": [],
   "source": []
  },
  {
   "cell_type": "code",
   "execution_count": null,
   "metadata": {},
   "outputs": [],
   "source": [
    "#| hide\n",
    "# from nbdev.showdoc import *"
   ]
  },
  {
   "cell_type": "code",
   "execution_count": null,
   "metadata": {},
   "outputs": [
    {
     "name": "stdout",
     "output_type": "stream",
     "text": [
      "The autoreload extension is already loaded. To reload it, use:\n",
      "  %reload_ext autoreload\n"
     ]
    }
   ],
   "source": [
    "%load_ext autoreload\n",
    "%autoreload 2"
   ]
  },
  {
   "cell_type": "code",
   "execution_count": null,
   "metadata": {},
   "outputs": [],
   "source": [
    "import io\n",
    "import json\n",
    "import math\n",
    "import os\n",
    "\n",
    "import numpy as np\n",
    "import pandas as pd\n",
    "import tensorflow as tf\n",
    "from tensorboard.plugins import projector\n",
    "\n",
    "\n",
    "#from fastai.vision.all import *\n",
    "#from portfolio_search.embeddings import *\n",
    "#from portfolio_search.fileorg import *"
   ]
  },
  {
   "cell_type": "code",
   "execution_count": null,
   "metadata": {},
   "outputs": [
    {
     "name": "stdout",
     "output_type": "stream",
     "text": [
      "The tensorboard extension is already loaded. To reload it, use:\n",
      "  %reload_ext tensorboard\n"
     ]
    }
   ],
   "source": [
    "%load_ext tensorboard"
   ]
  },
  {
   "cell_type": "markdown",
   "metadata": {},
   "source": [
    "## Loading TSV's and Centroids"
   ]
  },
  {
   "cell_type": "code",
   "execution_count": null,
   "metadata": {},
   "outputs": [],
   "source": [
    "subclusters_dir = (\n",
    "    \"/Users/al/Dropbox/2-Areas/2-Sketchbooks/datasets/full-v2/04_SUBCLUSTERS\"\n",
    ")"
   ]
  },
  {
   "cell_type": "code",
   "execution_count": null,
   "metadata": {},
   "outputs": [],
   "source": [
    "drawing_centroids_fname = f\"{subclusters_dir}/centroids_drawings.json\"\n",
    "with open(drawing_centroids_fname, \"r\") as infile:\n",
    "    drawing_centroids = json.load(infile)"
   ]
  },
  {
   "cell_type": "code",
   "execution_count": null,
   "metadata": {},
   "outputs": [],
   "source": [
    "watercolor_centroids_fname = f\"{subclusters_dir}/centroids_watercolors.json\"\n",
    "with open(watercolor_centroids_fname, \"r\") as infile:\n",
    "    watercolor_centroids = json.load(infile)"
   ]
  },
  {
   "cell_type": "code",
   "execution_count": null,
   "metadata": {},
   "outputs": [
    {
     "data": {
      "text/html": [
       "<div>\n",
       "<style scoped>\n",
       "    .dataframe tbody tr th:only-of-type {\n",
       "        vertical-align: middle;\n",
       "    }\n",
       "\n",
       "    .dataframe tbody tr th {\n",
       "        vertical-align: top;\n",
       "    }\n",
       "\n",
       "    .dataframe thead th {\n",
       "        text-align: right;\n",
       "    }\n",
       "</style>\n",
       "<table border=\"1\" class=\"dataframe\">\n",
       "  <thead>\n",
       "    <tr style=\"text-align: right;\">\n",
       "      <th></th>\n",
       "      <th>abs_fname</th>\n",
       "      <th>rel_fname</th>\n",
       "      <th>label</th>\n",
       "      <th>pred_label</th>\n",
       "      <th>pred_idx</th>\n",
       "      <th>pred_probs</th>\n",
       "      <th>emb_csv</th>\n",
       "      <th>cluster</th>\n",
       "      <th>cluster_dist</th>\n",
       "      <th>metacluster</th>\n",
       "      <th>...</th>\n",
       "      <th>drawings_cluster48_id</th>\n",
       "      <th>drawings_cluster48_dist</th>\n",
       "      <th>drawings_cropped_cluster16_id</th>\n",
       "      <th>drawings_cropped_cluster16_dist</th>\n",
       "      <th>drawings_cropped_cluster32_id</th>\n",
       "      <th>drawings_cropped_cluster32_dist</th>\n",
       "      <th>drawings_cropped_cluster48_id</th>\n",
       "      <th>drawings_cropped_cluster48_dist</th>\n",
       "      <th>drawings_cropped_cluster64_id</th>\n",
       "      <th>drawings_cropped_cluster64_dist</th>\n",
       "    </tr>\n",
       "    <tr>\n",
       "      <th>idx</th>\n",
       "      <th></th>\n",
       "      <th></th>\n",
       "      <th></th>\n",
       "      <th></th>\n",
       "      <th></th>\n",
       "      <th></th>\n",
       "      <th></th>\n",
       "      <th></th>\n",
       "      <th></th>\n",
       "      <th></th>\n",
       "      <th></th>\n",
       "      <th></th>\n",
       "      <th></th>\n",
       "      <th></th>\n",
       "      <th></th>\n",
       "      <th></th>\n",
       "      <th></th>\n",
       "      <th></th>\n",
       "      <th></th>\n",
       "      <th></th>\n",
       "      <th></th>\n",
       "    </tr>\n",
       "  </thead>\n",
       "  <tbody>\n",
       "    <tr>\n",
       "      <th>0</th>\n",
       "      <td>/Users/al/Dropbox/2-Areas/2-Sketchbooks/datase...</td>\n",
       "      <td>art/sb77p043.jpg</td>\n",
       "      <td>art</td>\n",
       "      <td>xtra</td>\n",
       "      <td>4</td>\n",
       "      <td>0.168532,0.008473,0.008068,0.016940,0.797986</td>\n",
       "      <td>-0.6198182,-0.5714155,-0.6871516,-0.6553513,-0...</td>\n",
       "      <td>11</td>\n",
       "      <td>199.22961</td>\n",
       "      <td>1</td>\n",
       "      <td>...</td>\n",
       "      <td>15</td>\n",
       "      <td>166.33705</td>\n",
       "      <td>15</td>\n",
       "      <td>265.844100</td>\n",
       "      <td>15</td>\n",
       "      <td>257.350560</td>\n",
       "      <td>15</td>\n",
       "      <td>268.67297</td>\n",
       "      <td>58</td>\n",
       "      <td>276.82034</td>\n",
       "    </tr>\n",
       "    <tr>\n",
       "      <th>1</th>\n",
       "      <td>/Users/al/Dropbox/2-Areas/2-Sketchbooks/datase...</td>\n",
       "      <td>art/sb67p021.jpg</td>\n",
       "      <td>art</td>\n",
       "      <td>xtra</td>\n",
       "      <td>4</td>\n",
       "      <td>0.170976,0.008673,0.008480,0.017028,0.794843</td>\n",
       "      <td>1.1073987,0.3512016,-0.73929733,-0.6553513,1.7...</td>\n",
       "      <td>3</td>\n",
       "      <td>132.26111</td>\n",
       "      <td>0</td>\n",
       "      <td>...</td>\n",
       "      <td>45</td>\n",
       "      <td>137.20117</td>\n",
       "      <td>14</td>\n",
       "      <td>121.146545</td>\n",
       "      <td>31</td>\n",
       "      <td>122.172424</td>\n",
       "      <td>31</td>\n",
       "      <td>116.40921</td>\n",
       "      <td>34</td>\n",
       "      <td>122.04242</td>\n",
       "    </tr>\n",
       "    <tr>\n",
       "      <th>2</th>\n",
       "      <td>/Users/al/Dropbox/2-Areas/2-Sketchbooks/datase...</td>\n",
       "      <td>art/sb25p227.jpg</td>\n",
       "      <td>art</td>\n",
       "      <td>xtra</td>\n",
       "      <td>4</td>\n",
       "      <td>0.158396,0.008277,0.007424,0.016584,0.809319</td>\n",
       "      <td>1.3776337,-0.5714155,-0.2587232,-0.6553513,1.3...</td>\n",
       "      <td>8</td>\n",
       "      <td>188.58075</td>\n",
       "      <td>0</td>\n",
       "      <td>...</td>\n",
       "      <td>8</td>\n",
       "      <td>148.63470</td>\n",
       "      <td>10</td>\n",
       "      <td>220.298950</td>\n",
       "      <td>1</td>\n",
       "      <td>217.335360</td>\n",
       "      <td>1</td>\n",
       "      <td>213.25168</td>\n",
       "      <td>1</td>\n",
       "      <td>191.67163</td>\n",
       "    </tr>\n",
       "    <tr>\n",
       "      <th>3</th>\n",
       "      <td>/Users/al/Dropbox/2-Areas/2-Sketchbooks/datase...</td>\n",
       "      <td>art/sb48p057.jpg</td>\n",
       "      <td>art</td>\n",
       "      <td>xtra</td>\n",
       "      <td>4</td>\n",
       "      <td>0.165322,0.008453,0.008010,0.016587,0.801628</td>\n",
       "      <td>2.4936543,0.17563903,-0.6522293,-0.55642915,1....</td>\n",
       "      <td>14</td>\n",
       "      <td>90.26291</td>\n",
       "      <td>0</td>\n",
       "      <td>...</td>\n",
       "      <td>28</td>\n",
       "      <td>83.96362</td>\n",
       "      <td>2</td>\n",
       "      <td>144.254030</td>\n",
       "      <td>21</td>\n",
       "      <td>129.951970</td>\n",
       "      <td>21</td>\n",
       "      <td>140.07254</td>\n",
       "      <td>21</td>\n",
       "      <td>144.77570</td>\n",
       "    </tr>\n",
       "    <tr>\n",
       "      <th>4</th>\n",
       "      <td>/Users/al/Dropbox/2-Areas/2-Sketchbooks/datase...</td>\n",
       "      <td>art/sb77p044.jpg</td>\n",
       "      <td>art</td>\n",
       "      <td>xtra</td>\n",
       "      <td>4</td>\n",
       "      <td>0.171638,0.008182,0.008061,0.016469,0.795650</td>\n",
       "      <td>2.170152,-0.01916939,-0.47766963,-0.6553513,-0...</td>\n",
       "      <td>4</td>\n",
       "      <td>176.29102</td>\n",
       "      <td>0</td>\n",
       "      <td>...</td>\n",
       "      <td>39</td>\n",
       "      <td>169.47894</td>\n",
       "      <td>15</td>\n",
       "      <td>151.277310</td>\n",
       "      <td>15</td>\n",
       "      <td>141.268980</td>\n",
       "      <td>15</td>\n",
       "      <td>145.39337</td>\n",
       "      <td>58</td>\n",
       "      <td>151.13809</td>\n",
       "    </tr>\n",
       "  </tbody>\n",
       "</table>\n",
       "<p>5 rows × 41 columns</p>\n",
       "</div>"
      ],
      "text/plain": [
       "                                             abs_fname         rel_fname  \\\n",
       "idx                                                                        \n",
       "0    /Users/al/Dropbox/2-Areas/2-Sketchbooks/datase...  art/sb77p043.jpg   \n",
       "1    /Users/al/Dropbox/2-Areas/2-Sketchbooks/datase...  art/sb67p021.jpg   \n",
       "2    /Users/al/Dropbox/2-Areas/2-Sketchbooks/datase...  art/sb25p227.jpg   \n",
       "3    /Users/al/Dropbox/2-Areas/2-Sketchbooks/datase...  art/sb48p057.jpg   \n",
       "4    /Users/al/Dropbox/2-Areas/2-Sketchbooks/datase...  art/sb77p044.jpg   \n",
       "\n",
       "    label pred_label  pred_idx                                    pred_probs  \\\n",
       "idx                                                                            \n",
       "0     art       xtra         4  0.168532,0.008473,0.008068,0.016940,0.797986   \n",
       "1     art       xtra         4  0.170976,0.008673,0.008480,0.017028,0.794843   \n",
       "2     art       xtra         4  0.158396,0.008277,0.007424,0.016584,0.809319   \n",
       "3     art       xtra         4  0.165322,0.008453,0.008010,0.016587,0.801628   \n",
       "4     art       xtra         4  0.171638,0.008182,0.008061,0.016469,0.795650   \n",
       "\n",
       "                                               emb_csv  cluster  cluster_dist  \\\n",
       "idx                                                                             \n",
       "0    -0.6198182,-0.5714155,-0.6871516,-0.6553513,-0...       11     199.22961   \n",
       "1    1.1073987,0.3512016,-0.73929733,-0.6553513,1.7...        3     132.26111   \n",
       "2    1.3776337,-0.5714155,-0.2587232,-0.6553513,1.3...        8     188.58075   \n",
       "3    2.4936543,0.17563903,-0.6522293,-0.55642915,1....       14      90.26291   \n",
       "4    2.170152,-0.01916939,-0.47766963,-0.6553513,-0...        4     176.29102   \n",
       "\n",
       "     metacluster  ... drawings_cluster48_id drawings_cluster48_dist  \\\n",
       "idx               ...                                                 \n",
       "0              1  ...                    15               166.33705   \n",
       "1              0  ...                    45               137.20117   \n",
       "2              0  ...                     8               148.63470   \n",
       "3              0  ...                    28                83.96362   \n",
       "4              0  ...                    39               169.47894   \n",
       "\n",
       "    drawings_cropped_cluster16_id drawings_cropped_cluster16_dist  \\\n",
       "idx                                                                 \n",
       "0                              15                      265.844100   \n",
       "1                              14                      121.146545   \n",
       "2                              10                      220.298950   \n",
       "3                               2                      144.254030   \n",
       "4                              15                      151.277310   \n",
       "\n",
       "    drawings_cropped_cluster32_id drawings_cropped_cluster32_dist  \\\n",
       "idx                                                                 \n",
       "0                              15                      257.350560   \n",
       "1                              31                      122.172424   \n",
       "2                               1                      217.335360   \n",
       "3                              21                      129.951970   \n",
       "4                              15                      141.268980   \n",
       "\n",
       "     drawings_cropped_cluster48_id drawings_cropped_cluster48_dist  \\\n",
       "idx                                                                  \n",
       "0                               15                       268.67297   \n",
       "1                               31                       116.40921   \n",
       "2                                1                       213.25168   \n",
       "3                               21                       140.07254   \n",
       "4                               15                       145.39337   \n",
       "\n",
       "    drawings_cropped_cluster64_id drawings_cropped_cluster64_dist  \n",
       "idx                                                                \n",
       "0                              58                       276.82034  \n",
       "1                              34                       122.04242  \n",
       "2                               1                       191.67163  \n",
       "3                              21                       144.77570  \n",
       "4                              58                       151.13809  \n",
       "\n",
       "[5 rows x 41 columns]"
      ]
     },
     "execution_count": null,
     "metadata": {},
     "output_type": "execute_result"
    }
   ],
   "source": [
    "clustered_drawings_tsv_fname = f\"{subclusters_dir}/clustered_drawings.tsv\"\n",
    "# drawings_df.to_csv(\n",
    "#     clustered_drawings_tsv_fname, index=True, index_label=\"idx\", sep=\"\\t\", header=True\n",
    "# )\n",
    "clustered_drawings_df = pd.read_csv(\n",
    "    clustered_drawings_tsv_fname, delimiter=\"\\t\", index_col=\"idx\"\n",
    ")\n",
    "clustered_drawings_df.head()"
   ]
  },
  {
   "cell_type": "code",
   "execution_count": null,
   "metadata": {},
   "outputs": [
    {
     "data": {
      "text/html": [
       "<div>\n",
       "<style scoped>\n",
       "    .dataframe tbody tr th:only-of-type {\n",
       "        vertical-align: middle;\n",
       "    }\n",
       "\n",
       "    .dataframe tbody tr th {\n",
       "        vertical-align: top;\n",
       "    }\n",
       "\n",
       "    .dataframe thead th {\n",
       "        text-align: right;\n",
       "    }\n",
       "</style>\n",
       "<table border=\"1\" class=\"dataframe\">\n",
       "  <thead>\n",
       "    <tr style=\"text-align: right;\">\n",
       "      <th></th>\n",
       "      <th>abs_fname</th>\n",
       "      <th>rel_fname</th>\n",
       "      <th>label</th>\n",
       "      <th>pred_label</th>\n",
       "      <th>pred_idx</th>\n",
       "      <th>pred_probs</th>\n",
       "      <th>emb_csv</th>\n",
       "      <th>cluster</th>\n",
       "      <th>cluster_dist</th>\n",
       "      <th>metacluster</th>\n",
       "      <th>...</th>\n",
       "      <th>handlabeled_metacluster_name</th>\n",
       "      <th>handlabeled_metacluster_id</th>\n",
       "      <th>handlabeled_metacluster_was_correct</th>\n",
       "      <th>preprocessed_abs_path</th>\n",
       "      <th>handlabeled_abs_path</th>\n",
       "      <th>emb_csv_cropped</th>\n",
       "      <th>watercolors_cluster_id</th>\n",
       "      <th>watercolors_cluster_dist</th>\n",
       "      <th>watercolors_cropped_cluster_id</th>\n",
       "      <th>watercolors_cropped_cluster_dist</th>\n",
       "    </tr>\n",
       "    <tr>\n",
       "      <th>idx</th>\n",
       "      <th></th>\n",
       "      <th></th>\n",
       "      <th></th>\n",
       "      <th></th>\n",
       "      <th></th>\n",
       "      <th></th>\n",
       "      <th></th>\n",
       "      <th></th>\n",
       "      <th></th>\n",
       "      <th></th>\n",
       "      <th></th>\n",
       "      <th></th>\n",
       "      <th></th>\n",
       "      <th></th>\n",
       "      <th></th>\n",
       "      <th></th>\n",
       "      <th></th>\n",
       "      <th></th>\n",
       "      <th></th>\n",
       "      <th></th>\n",
       "      <th></th>\n",
       "    </tr>\n",
       "  </thead>\n",
       "  <tbody>\n",
       "    <tr>\n",
       "      <th>0</th>\n",
       "      <td>/Users/al/Dropbox/2-Areas/2-Sketchbooks/datase...</td>\n",
       "      <td>art/sb07p104.jpg</td>\n",
       "      <td>art</td>\n",
       "      <td>xtra</td>\n",
       "      <td>4</td>\n",
       "      <td>0.177406,0.008799,0.008245,0.017177,0.788373</td>\n",
       "      <td>-0.39105213,0.96309596,-0.73929733,0.4489988,0...</td>\n",
       "      <td>5</td>\n",
       "      <td>238.33170</td>\n",
       "      <td>1</td>\n",
       "      <td>...</td>\n",
       "      <td>1_watercolors</td>\n",
       "      <td>1</td>\n",
       "      <td>True</td>\n",
       "      <td>/Users/al/Dropbox/2-Areas/2-Sketchbooks/datase...</td>\n",
       "      <td>/Users/al/Dropbox/2-Areas/2-Sketchbooks/datase...</td>\n",
       "      <td>-0.6198182,0.8895926,-0.73929733,0.6418346,0.4...</td>\n",
       "      <td>7</td>\n",
       "      <td>215.02927</td>\n",
       "      <td>7</td>\n",
       "      <td>206.64117</td>\n",
       "    </tr>\n",
       "    <tr>\n",
       "      <th>1</th>\n",
       "      <td>/Users/al/Dropbox/2-Areas/2-Sketchbooks/datase...</td>\n",
       "      <td>art/sb31p017.jpg</td>\n",
       "      <td>art</td>\n",
       "      <td>xtra</td>\n",
       "      <td>4</td>\n",
       "      <td>0.172119,0.008924,0.008226,0.016950,0.793781</td>\n",
       "      <td>-0.05104202,-0.3935787,-0.73929733,0.86878717,...</td>\n",
       "      <td>11</td>\n",
       "      <td>191.66959</td>\n",
       "      <td>1</td>\n",
       "      <td>...</td>\n",
       "      <td>1_watercolors</td>\n",
       "      <td>1</td>\n",
       "      <td>True</td>\n",
       "      <td>/Users/al/Dropbox/2-Areas/2-Sketchbooks/datase...</td>\n",
       "      <td>/Users/al/Dropbox/2-Areas/2-Sketchbooks/datase...</td>\n",
       "      <td>1.491735,-0.5714155,-0.73929733,0.05867392,0.5...</td>\n",
       "      <td>4</td>\n",
       "      <td>199.03098</td>\n",
       "      <td>4</td>\n",
       "      <td>195.97546</td>\n",
       "    </tr>\n",
       "    <tr>\n",
       "      <th>2</th>\n",
       "      <td>/Users/al/Dropbox/2-Areas/2-Sketchbooks/datase...</td>\n",
       "      <td>art/sb05p079.jpg</td>\n",
       "      <td>art</td>\n",
       "      <td>xtra</td>\n",
       "      <td>4</td>\n",
       "      <td>0.172158,0.008873,0.008536,0.017017,0.793416</td>\n",
       "      <td>1.8089037,-0.5714155,-0.73929733,-0.10773122,-...</td>\n",
       "      <td>11</td>\n",
       "      <td>140.32997</td>\n",
       "      <td>1</td>\n",
       "      <td>...</td>\n",
       "      <td>1_watercolors</td>\n",
       "      <td>1</td>\n",
       "      <td>NaN</td>\n",
       "      <td>/Users/al/Dropbox/2-Areas/2-Sketchbooks/datase...</td>\n",
       "      <td>/Users/al/Dropbox/2-Areas/2-Sketchbooks/datase...</td>\n",
       "      <td>-0.6013173,-0.5714155,-0.7368871,-0.6553513,-0...</td>\n",
       "      <td>4</td>\n",
       "      <td>142.76602</td>\n",
       "      <td>4</td>\n",
       "      <td>248.37231</td>\n",
       "    </tr>\n",
       "    <tr>\n",
       "      <th>3</th>\n",
       "      <td>/Users/al/Dropbox/2-Areas/2-Sketchbooks/datase...</td>\n",
       "      <td>art/sb26p082.jpg</td>\n",
       "      <td>art</td>\n",
       "      <td>xtra</td>\n",
       "      <td>4</td>\n",
       "      <td>0.179525,0.008828,0.008282,0.017196,0.786169</td>\n",
       "      <td>1.8392665,0.3796271,-0.73929733,0.82189727,1.6...</td>\n",
       "      <td>7</td>\n",
       "      <td>176.11029</td>\n",
       "      <td>1</td>\n",
       "      <td>...</td>\n",
       "      <td>1_watercolors</td>\n",
       "      <td>1</td>\n",
       "      <td>NaN</td>\n",
       "      <td>/Users/al/Dropbox/2-Areas/2-Sketchbooks/datase...</td>\n",
       "      <td>/Users/al/Dropbox/2-Areas/2-Sketchbooks/datase...</td>\n",
       "      <td>0.8175719,0.48385304,-0.73929733,1.0291914,1.4...</td>\n",
       "      <td>1</td>\n",
       "      <td>157.93832</td>\n",
       "      <td>1</td>\n",
       "      <td>196.84943</td>\n",
       "    </tr>\n",
       "    <tr>\n",
       "      <th>4</th>\n",
       "      <td>/Users/al/Dropbox/2-Areas/2-Sketchbooks/datase...</td>\n",
       "      <td>art/sb69p101-color.jpg</td>\n",
       "      <td>art</td>\n",
       "      <td>xtra</td>\n",
       "      <td>4</td>\n",
       "      <td>0.179525,0.008828,0.008282,0.017196,0.786169</td>\n",
       "      <td>-0.23259398,-0.5714155,-0.73929733,-0.6553513,...</td>\n",
       "      <td>7</td>\n",
       "      <td>187.45346</td>\n",
       "      <td>1</td>\n",
       "      <td>...</td>\n",
       "      <td>1_watercolors</td>\n",
       "      <td>1</td>\n",
       "      <td>NaN</td>\n",
       "      <td>/Users/al/Dropbox/2-Areas/2-Sketchbooks/datase...</td>\n",
       "      <td>/Users/al/Dropbox/2-Areas/2-Sketchbooks/datase...</td>\n",
       "      <td>0.14908737,-0.5714155,-0.73929733,0.44245207,-...</td>\n",
       "      <td>1</td>\n",
       "      <td>167.27823</td>\n",
       "      <td>1</td>\n",
       "      <td>136.63800</td>\n",
       "    </tr>\n",
       "  </tbody>\n",
       "</table>\n",
       "<p>5 rows × 25 columns</p>\n",
       "</div>"
      ],
      "text/plain": [
       "                                             abs_fname  \\\n",
       "idx                                                      \n",
       "0    /Users/al/Dropbox/2-Areas/2-Sketchbooks/datase...   \n",
       "1    /Users/al/Dropbox/2-Areas/2-Sketchbooks/datase...   \n",
       "2    /Users/al/Dropbox/2-Areas/2-Sketchbooks/datase...   \n",
       "3    /Users/al/Dropbox/2-Areas/2-Sketchbooks/datase...   \n",
       "4    /Users/al/Dropbox/2-Areas/2-Sketchbooks/datase...   \n",
       "\n",
       "                  rel_fname label pred_label  pred_idx  \\\n",
       "idx                                                      \n",
       "0          art/sb07p104.jpg   art       xtra         4   \n",
       "1          art/sb31p017.jpg   art       xtra         4   \n",
       "2          art/sb05p079.jpg   art       xtra         4   \n",
       "3          art/sb26p082.jpg   art       xtra         4   \n",
       "4    art/sb69p101-color.jpg   art       xtra         4   \n",
       "\n",
       "                                       pred_probs  \\\n",
       "idx                                                 \n",
       "0    0.177406,0.008799,0.008245,0.017177,0.788373   \n",
       "1    0.172119,0.008924,0.008226,0.016950,0.793781   \n",
       "2    0.172158,0.008873,0.008536,0.017017,0.793416   \n",
       "3    0.179525,0.008828,0.008282,0.017196,0.786169   \n",
       "4    0.179525,0.008828,0.008282,0.017196,0.786169   \n",
       "\n",
       "                                               emb_csv  cluster  cluster_dist  \\\n",
       "idx                                                                             \n",
       "0    -0.39105213,0.96309596,-0.73929733,0.4489988,0...        5     238.33170   \n",
       "1    -0.05104202,-0.3935787,-0.73929733,0.86878717,...       11     191.66959   \n",
       "2    1.8089037,-0.5714155,-0.73929733,-0.10773122,-...       11     140.32997   \n",
       "3    1.8392665,0.3796271,-0.73929733,0.82189727,1.6...        7     176.11029   \n",
       "4    -0.23259398,-0.5714155,-0.73929733,-0.6553513,...        7     187.45346   \n",
       "\n",
       "     metacluster  ... handlabeled_metacluster_name handlabeled_metacluster_id  \\\n",
       "idx               ...                                                           \n",
       "0              1  ...                1_watercolors                          1   \n",
       "1              1  ...                1_watercolors                          1   \n",
       "2              1  ...                1_watercolors                          1   \n",
       "3              1  ...                1_watercolors                          1   \n",
       "4              1  ...                1_watercolors                          1   \n",
       "\n",
       "    handlabeled_metacluster_was_correct  \\\n",
       "idx                                       \n",
       "0                                  True   \n",
       "1                                  True   \n",
       "2                                   NaN   \n",
       "3                                   NaN   \n",
       "4                                   NaN   \n",
       "\n",
       "                                 preprocessed_abs_path  \\\n",
       "idx                                                      \n",
       "0    /Users/al/Dropbox/2-Areas/2-Sketchbooks/datase...   \n",
       "1    /Users/al/Dropbox/2-Areas/2-Sketchbooks/datase...   \n",
       "2    /Users/al/Dropbox/2-Areas/2-Sketchbooks/datase...   \n",
       "3    /Users/al/Dropbox/2-Areas/2-Sketchbooks/datase...   \n",
       "4    /Users/al/Dropbox/2-Areas/2-Sketchbooks/datase...   \n",
       "\n",
       "                                  handlabeled_abs_path  \\\n",
       "idx                                                      \n",
       "0    /Users/al/Dropbox/2-Areas/2-Sketchbooks/datase...   \n",
       "1    /Users/al/Dropbox/2-Areas/2-Sketchbooks/datase...   \n",
       "2    /Users/al/Dropbox/2-Areas/2-Sketchbooks/datase...   \n",
       "3    /Users/al/Dropbox/2-Areas/2-Sketchbooks/datase...   \n",
       "4    /Users/al/Dropbox/2-Areas/2-Sketchbooks/datase...   \n",
       "\n",
       "                                       emb_csv_cropped  \\\n",
       "idx                                                      \n",
       "0    -0.6198182,0.8895926,-0.73929733,0.6418346,0.4...   \n",
       "1    1.491735,-0.5714155,-0.73929733,0.05867392,0.5...   \n",
       "2    -0.6013173,-0.5714155,-0.7368871,-0.6553513,-0...   \n",
       "3    0.8175719,0.48385304,-0.73929733,1.0291914,1.4...   \n",
       "4    0.14908737,-0.5714155,-0.73929733,0.44245207,-...   \n",
       "\n",
       "     watercolors_cluster_id watercolors_cluster_dist  \\\n",
       "idx                                                    \n",
       "0                         7                215.02927   \n",
       "1                         4                199.03098   \n",
       "2                         4                142.76602   \n",
       "3                         1                157.93832   \n",
       "4                         1                167.27823   \n",
       "\n",
       "    watercolors_cropped_cluster_id watercolors_cropped_cluster_dist  \n",
       "idx                                                                  \n",
       "0                                7                        206.64117  \n",
       "1                                4                        195.97546  \n",
       "2                                4                        248.37231  \n",
       "3                                1                        196.84943  \n",
       "4                                1                        136.63800  \n",
       "\n",
       "[5 rows x 25 columns]"
      ]
     },
     "execution_count": null,
     "metadata": {},
     "output_type": "execute_result"
    }
   ],
   "source": [
    "clustered_watercolors_tsv_fname = f\"{subclusters_dir}/clustered_watercolors.tsv\"\n",
    "# watercolors_df.to_csv(\n",
    "#     clustered_watercolors_tsv_fname,\n",
    "#     index=True,\n",
    "#     index_label=\"idx\",\n",
    "#     sep=\"\\t\",\n",
    "#     header=True,\n",
    "# )\n",
    "clustered_watercolors_df = pd.read_csv(\n",
    "    clustered_watercolors_tsv_fname, delimiter=\"\\t\", index_col=\"idx\"\n",
    ")\n",
    "clustered_watercolors_df.head()"
   ]
  },
  {
   "cell_type": "code",
   "execution_count": null,
   "metadata": {},
   "outputs": [],
   "source": [
    "%load_ext tensorboard\n",
    "import csv\n",
    "\n",
    "import numpy as np\n",
    "import tensorflow as tf\n",
    "from PIL import Image"
   ]
  },
  {
   "cell_type": "code",
   "execution_count": null,
   "metadata": {},
   "outputs": [
    {
     "data": {
      "text/plain": [
       "((1923, 512), (1923, 512))"
      ]
     },
     "execution_count": null,
     "metadata": {},
     "output_type": "execute_result"
    }
   ],
   "source": [
    "drawings_emb = np.stack(\n",
    "    [\n",
    "        np.array([float(f) for f in s.split(\",\")])\n",
    "        for s in list(clustered_drawings_df.emb_csv)\n",
    "    ]\n",
    ").astype(np.float32)\n",
    "\n",
    "drawings_cropped_emb = np.stack(\n",
    "    [\n",
    "        np.array([float(f) for f in s.split(\",\")])\n",
    "        for s in list(clustered_drawings_df.emb_csv_cropped)\n",
    "    ]\n",
    ").astype(np.float32)\n",
    "\n",
    "drawings_emb.shape, drawings_cropped_emb.shape"
   ]
  },
  {
   "cell_type": "code",
   "execution_count": null,
   "metadata": {},
   "outputs": [
    {
     "data": {
      "text/plain": [
       "((404, 512), (404, 512))"
      ]
     },
     "execution_count": null,
     "metadata": {},
     "output_type": "execute_result"
    }
   ],
   "source": [
    "watercolors_emb = np.stack(\n",
    "    [\n",
    "        np.array([float(f) for f in s.split(\",\")])\n",
    "        for s in list(clustered_watercolors_df.emb_csv)\n",
    "    ]\n",
    ").astype(np.float32)\n",
    "\n",
    "watercolors_cropped_emb = np.stack(\n",
    "    [\n",
    "        np.array([float(f) for f in s.split(\",\")])\n",
    "        for s in list(clustered_watercolors_df.emb_csv_cropped)\n",
    "    ]\n",
    ").astype(np.float32)\n",
    "\n",
    "watercolors_emb.shape, watercolors_cropped_emb.shape"
   ]
  },
  {
   "cell_type": "code",
   "execution_count": null,
   "metadata": {},
   "outputs": [
    {
     "name": "stdout",
     "output_type": "stream",
     "text": [
      "Metal device set to: Apple M1 Pro\n"
     ]
    }
   ],
   "source": [
    "weights = tf.Variable(drawings_emb)"
   ]
  },
  {
   "cell_type": "code",
   "execution_count": null,
   "metadata": {},
   "outputs": [
    {
     "data": {
      "text/plain": [
       "<tf.Variable 'Variable:0' shape=(1923, 512) dtype=float32, numpy=\n",
       "array([[-0.6198182 , -0.5714155 , -0.6871516 , ...,  0.09847462,\n",
       "        -0.49206764, -0.39251342],\n",
       "       [ 1.1073987 ,  0.3512016 , -0.73929733, ..., -0.65107447,\n",
       "        -0.49206764,  0.32716987],\n",
       "       [ 1.3776337 , -0.5714155 , -0.2587232 , ..., -0.65107447,\n",
       "        -0.4748875 ,  0.19909522],\n",
       "       ...,\n",
       "       [ 1.637738  , -0.5714155 , -0.73929733, ..., -0.65107447,\n",
       "        -0.13707963,  0.20361403],\n",
       "       [ 4.6632442 ,  0.29762375, -0.73929733, ...,  0.01897907,\n",
       "        -0.49206764, -0.39251342],\n",
       "       [ 0.71924925,  0.20198071,  1.2284024 , ..., -0.22790754,\n",
       "         0.7221783 , -0.08996937]], dtype=float32)>"
      ]
     },
     "execution_count": null,
     "metadata": {},
     "output_type": "execute_result"
    }
   ],
   "source": [
    "weights"
   ]
  },
  {
   "cell_type": "code",
   "execution_count": null,
   "metadata": {},
   "outputs": [
    {
     "data": {
      "text/plain": [
       "1923"
      ]
     },
     "execution_count": null,
     "metadata": {},
     "output_type": "execute_result"
    }
   ],
   "source": [
    "len(clustered_drawings_df)"
   ]
  },
  {
   "cell_type": "code",
   "execution_count": null,
   "metadata": {},
   "outputs": [],
   "source": [
    "tf_logs = f\"{subclusters_dir}/tflogs\"\n",
    "if not os.path.isdir(tf_logs):\n",
    "    os.makedirs(tf_logs)\n",
    "\n",
    "tf_embeddings = f\"{tf_logs}/embeddings/\"\n",
    "if not os.path.isdir(tf_embeddings):\n",
    "    os.makedirs(tf_embeddings)"
   ]
  },
  {
   "cell_type": "code",
   "execution_count": null,
   "metadata": {},
   "outputs": [
    {
     "name": "stdout",
     "output_type": "stream",
     "text": [
      "sb77p043.jpg\n",
      "sb67p021.jpg\n",
      "sb25p227.jpg\n",
      "sb48p057.jpg\n",
      "sb77p044.jpg\n",
      "sb11p024.jpg\n",
      "sb67p006--kitchen-nap.jpg\n",
      "sb68p093.jpg\n",
      "sb45p121.jpg\n",
      "sb69p013.jpg\n"
     ]
    }
   ],
   "source": [
    "metadata_fname = f\"{tf_embeddings}/metadata.tsv\"\n",
    "\n",
    "with open(metadata_fname, 'w') as outfile:\n",
    "    for idx in range(len(clustered_drawings_df)):\n",
    "        row = clustered_drawings_df.iloc[idx]\n",
    "        outfile.write(f\"{row.indiv_fname}\\n\")\n",
    "\n",
    "!head {metadata_fname}"
   ]
  },
  {
   "cell_type": "code",
   "execution_count": null,
   "metadata": {},
   "outputs": [],
   "source": [
    "# images_pil = []\n",
    "\n",
    "# for idx in range(len(clustered_drawings_df)):\n",
    "#     row = clustered_drawings_df.iloc[idx]\n",
    "#     # if idx > 10:\n",
    "#     #     break\n",
    "#     images_pil.append(Image.open(row.preprocessed_abs_path))"
   ]
  },
  {
   "cell_type": "code",
   "execution_count": null,
   "metadata": {},
   "outputs": [
    {
     "data": {
      "text/plain": [
       "44"
      ]
     },
     "execution_count": null,
     "metadata": {},
     "output_type": "execute_result"
    }
   ],
   "source": [
    "one_square_size = int(np.ceil(np.sqrt(len(clustered_drawings_df))))\n",
    "one_square_size"
   ]
  },
  {
   "cell_type": "code",
   "execution_count": null,
   "metadata": {},
   "outputs": [],
   "source": [
    "from PIL import Image\n",
    "\n",
    "master_width = 100 * one_square_size\n",
    "master_height = 100 * one_square_size\n",
    "spriteimage = Image.new(\n",
    "    mode='RGBA',\n",
    "    size=(master_width, master_height),\n",
    "    color=(0,0,0,0) # fully transparent\n",
    ")\n",
    "for idx in range(len(clustered_drawings_df)):\n",
    "    row = clustered_drawings_df.iloc[idx]\n",
    "    image = Image.open(row.preprocessed_abs_path).resize((100, 100))\n",
    "    div, mod = divmod(idx, one_square_size)\n",
    "    h_loc = 100 * div\n",
    "    w_loc = 100 * mod\n",
    "    spriteimage.paste(image, (w_loc, h_loc))\n",
    "spriteimage.convert('RGB').save(f'{tf_embeddings}/sprite.jpg', transparency=0)\n"
   ]
  },
  {
   "cell_type": "code",
   "execution_count": null,
   "metadata": {},
   "outputs": [],
   "source": []
  },
  {
   "cell_type": "code",
   "execution_count": null,
   "metadata": {},
   "outputs": [
    {
     "name": "stdout",
     "output_type": "stream",
     "text": [
      "-0.6198182\t-0.5714155\t-0.6871516\t-0.6553513\t-0.6254566\t-0.65341413\t-0.7267234\t-0.4896673\t-0.7537334\t-0.42715576\t1.4904574\t-0.72562873\t-0.662768\t-0.6266761\t0.6913696\t0.054546177\t-0.5467274\t-0.6520286\t0.117179275\t0.94330966\t0.5815062\t-0.55193967\t-0.5446661\t-0.6779002\t-0.57759243\t-0.4584825\t-0.3818994\t-0.5750927\t-0.73986673\t-0.45211998\t-0.6141643\t-0.67007643\t-0.52171326\t-0.4592305\t1.4788612\t-0.6186755\t0.799198\t-0.57338566\t-0.17778617\t0.10336053\t0.093812525\t0.17924881\t-0.6189488\t-0.6682474\t2.1040225\t-0.59257406\t1.6553459\t-0.6001429\t0.5109105\t0.19352531\t-0.2517513\t-0.66552746\t-0.6482407\t-0.4732165\t-0.7311095\t-0.6058329\t-0.41851217\t-0.6646769\t0.19708657\t-0.6859715\t0.547243\t-0.47478092\t-0.8143768\t0.6043384\t-0.45561737\t-0.5205148\t-0.19637269\t-0.67944384\t-0.5505594\t-0.7467994\t-0.64460987\t-0.46079588\t-0.69849855\t-0.41446227\t-0.6081119\t-0.6608871\t0.23214674\t1.7035191\t-0.47101474\t-0.5426106\t-0.5526179\t1.4402422\t0.37750077\t-0.4790987\t0.46338224\t-0.03557557\t-0.577085\t-0.6104121\t0.31350982\t0.63637584\t-0.14618653\t-0.61428136\t1.5493102\t-0.63265276\t1.1587265\t-0.48707122\t-0.6967229\t-0.59332824\t1.7449057\t-0.46021277\t-0.63993174\t-0.76553875\t-0.60530424\t-0.29537043\t-0.4157559\t-0.49291843\t-0.6262977\t-0.6128263\t-0.5139186\t-0.62823576\t-0.59007895\t-0.6965061\t-0.5804847\t-0.5246716\t-0.48676312\t-0.26156187\t0.95585954\t-0.6238418\t0.9746174\t-0.16204783\t2.2321355\t0.061881006\t-0.63529575\t-0.537477\t-0.36832452\t-0.004981935\t-0.48087424\t-0.43983847\t-0.50105065\t-0.682836\t-0.66491187\t-0.6797472\t-0.0997439\t-0.021999538\t-0.71257764\t1.9016916\t-0.60108\t-0.63299096\t0.28140062\t-0.7171157\t-0.6375682\t-0.6348774\t3.2009544\t-0.73214924\t-0.62897754\t-0.46266684\t-0.37859043\t-0.2960567\t0.22409528\t0.5868449\t-0.51874804\t-0.31387416\t-0.19374281\t0.00200814\t0.7507072\t1.0907284\t-0.5358345\t-0.07787788\t-0.29217994\t0.77522665\t-0.55414665\t-0.4696428\t-0.6053274\t-0.49728537\t-0.55488074\t-0.48824254\t-0.65081346\t-0.60318696\t0.9660937\t-0.56329983\t-0.5211032\t-0.639345\t-0.5437213\t-0.63751215\t-0.34079963\t-0.53909826\t-0.65106076\t0.20559418\t-0.5073842\t-0.6918073\t-0.62693447\t-0.49275136\t-0.65002286\t0.95751303\t-0.3008598\t-0.55680686\t1.0792496\t0.774848\t-0.48588264\t-0.71772426\t-0.5829121\t-0.4725283\t1.023493\t2.0256374\t0.7612439\t-0.4826959\t-0.21178856\t-0.5074541\t2.2746863\t0.47541696\t1.0433946\t-0.44740248\t0.97176546\t-0.23189563\t0.23473871\t-0.51704395\t-0.6029111\t0.027723491\t-0.4995486\t-0.14938274\t0.1428783\t-0.67159975\t-0.67170393\t-0.64598054\t-0.5561494\t-0.56587017\t-0.47049776\t0.22861469\t-0.53188723\t0.5946686\t-0.61235195\t-0.799528\t-0.41546223\t0.38230646\t-0.09492311\t0.33810467\t1.7077615\t-0.41099703\t-0.6477621\t-0.5815004\t-0.119737774\t0.3397501\t-0.62445724\t1.7291558\t-0.59607416\t1.682477\t-0.666945\t-0.051748693\t-0.22180039\t-0.7036786\t-0.51746833\t-0.4629042\t-0.5136348\t-0.44215468\t-0.6816496\t-0.7029415\t0.23656172\t-0.51101106\t-0.49007544\t0.1973244\t-0.27828568\t-0.52145916\t-0.33100298\t-0.5925758\t-0.5095265\t-0.31034473\t-0.6532269\t-0.7680724\t1.2137315\t-0.61329556\t-0.6628743\t0.98060465\t-0.683384\t0.36679065\t0.2210542\t0.00029248\t1.2421384\t1.7115324\t-0.67644596\t-0.20039517\t0.15179002\t1.2533226\t0.8483739\t-0.47555566\t-0.588568\t-0.4634904\t-0.2342771\t-0.17135361\t0.40001863\t-0.11752543\t-0.517914\t0.18666852\t0.6040581\t-0.7012117\t0.3401546\t-0.6307094\t-0.47852555\t-0.5130526\t-0.50031877\t0.6472873\t-0.5062285\t-0.6709848\t1.5579097\t-0.481373\t-0.65100396\t0.64553756\t-0.71602243\t0.07682127\t-0.61497146\t0.20312417\t0.004381001\t0.82400197\t1.9556577\t-0.6605026\t-0.34786063\t-0.5447662\t-0.61742276\t-0.6534633\t-0.46339914\t-0.5475428\t-0.47044614\t-0.6482402\t-0.4996574\t-0.51402634\t0.36537015\t-0.6583128\t-0.50534487\t-0.6725912\t-0.22902215\t-0.5561926\t-0.45594007\t-0.6112856\t-0.15991735\t-0.6999633\t1.5441899\t-0.6699586\t0.89477324\t-0.4635805\t-0.58375645\t-0.43037957\t-0.11047655\t-0.6483807\t1.2622786\t-0.6759538\t-0.70283246\t-0.5861831\t-0.47019035\t-0.59126043\t0.18478405\t-0.33273932\t-0.5547614\t0.3397526\t1.1154402\t-0.22537094\t1.2848659\t-0.5364493\t-0.71200985\t-0.5311079\t-0.61185944\t-0.64053524\t-0.5029819\t0.067080855\t0.11652273\t-0.5853718\t-0.66932786\t-0.15818292\t-0.62367845\t0.7262716\t-0.4787713\t-0.4564949\t0.2395302\t0.6643908\t-0.25392973\t-0.6761629\t-0.42921948\t-0.27119038\t0.56590176\t-0.55952317\t0.36057645\t1.6846812\t0.057736367\t-0.73007077\t0.40202093\t-0.5312875\t-0.17738879\t-0.4736769\t-0.61417806\t-0.4619323\t-0.5301372\t-0.48249543\t-0.7779453\t-0.19391319\t-0.46213186\t0.5157924\t1.1046441\t0.63756037\t-0.61582494\t-0.69205695\t-0.13734245\t-0.661769\t-0.6900329\t-0.4719818\t-0.6335669\t1.8876587\t0.328789\t-0.10699955\t3.2874646\t0.34532726\t-0.122377336\t2.7782545\t0.8461142\t1.3820603\t-0.518363\t-0.5443141\t-0.6437589\t-0.18877521\t-0.57434005\t-0.5696869\t0.99117476\t-0.61999637\t0.26415282\t-0.5783037\t0.5301837\t0.74880236\t-0.564467\t-0.624485\t0.29636407\t0.7744219\t-0.67781055\t-0.25113168\t-0.43388456\t0.9224855\t1.8482845\t-0.6042349\t1.407727\t1.9888644\t-0.5181872\t-0.56346613\t0.0011875033\t-0.23027515\t-0.41507006\t0.20999777\t-0.14713013\t0.890923\t-0.5720823\t-0.12613213\t-0.68253326\t-0.22734392\t-0.67740345\t-0.4403832\t-0.5921915\t-0.6676015\t-0.68035614\t0.48290104\t-0.1582441\t0.98563135\t0.88531333\t-0.56316394\t0.12502867\t-0.59465045\t-0.47783846\t-0.3397814\t0.18029618\t-0.5940082\t-0.6207036\t1.3442724\t1.3843284\t-0.64950424\t-0.5894991\t0.23044568\t-0.6176074\t-0.5994974\t0.81368804\t-0.16989186\t-0.0060750544\t-0.6400218\t1.4727979\t-0.22294387\t2.3308163\t-0.48364016\t-0.4952819\t-0.6471045\t-0.499587\t-0.5337828\t-0.55979806\t-0.46219397\t-0.6132164\t0.41023475\t0.03102547\t-0.6131269\t-0.06623703\t-0.47071788\t-0.51132727\t-0.22521377\t-0.63688064\t-0.21970803\t0.9474908\t-0.5632065\t-0.6459049\t-0.71138895\t-0.39364403\t-0.49940833\t-0.4929026\t-0.0048267245\t-0.4832442\t-0.5548996\t-0.46071145\t-0.32768083\t-0.6024839\t-0.6660967\t0.068418026\t-0.5019231\t-0.6273019\t-0.43346506\t-0.61844975\t-0.5771547\t0.11831212\t-0.066627264\t-0.5419061\t0.09847462\t-0.49206764\t-0.39251342\n",
      "1.1073987\t0.3512016\t-0.73929733\t-0.6553513\t1.7477593\t-0.65341413\t0.32179314\t-0.4896673\t-0.1797334\t-0.42715576\t1.3163843\t-0.72562873\t-0.61387855\t-0.6266761\t-0.35361218\t0.37611246\t-0.08771938\t-0.5262803\t0.9261699\t-0.6497359\t-0.64108604\t-0.55193967\t-0.5446661\t-0.6779002\t-0.32559583\t-0.6690378\t-0.4518578\t0.51828945\t-0.4238917\t-0.45211998\t-0.16527033\t-0.67007643\t1.0136865\t-0.4592305\t-0.600525\t-0.060860336\t-0.19446748\t-0.24127388\t2.2282472\t1.8003348\t-0.61049384\t0.39795423\t0.2626753\t-0.6682474\t-0.75794554\t-0.59257406\t0.80257696\t-0.6001429\t-0.651804\t-0.028328001\t0.53641737\t-0.6501347\t-0.6482407\t0.3295404\t-0.7311095\t0.7769913\t-0.47955433\t0.029548049\t-0.69804686\t-0.6859715\t-0.7994243\t-0.37796497\t0.2770447\t-0.5895213\t-0.45400283\t-0.3217132\t-0.69643825\t-0.50339925\t-0.28047013\t-0.7467994\t-0.64460987\t-0.46079588\t0.9519163\t-0.692441\t-0.6081119\t-0.6608871\t-0.68580395\t0.38670623\t-0.39434192\t-0.2689916\t-0.5526179\t3.0988364\t0.6767974\t0.5479597\t-0.64532113\t-0.79415584\t-0.577085\t-0.6104121\t-0.21005714\t0.9130197\t0.5350442\t0.02642548\t-0.7075963\t-0.63265276\t1.0843167\t-0.14746365\t0.37673205\t-0.73169684\t2.9166942\t-0.68441904\t-0.63993174\t-0.76553875\t1.35689\t-0.2936016\t1.1953154\t-0.49291843\t2.4941373\t0.5234068\t-0.5519926\t-0.62823576\t-0.27636325\t-0.6965061\t-0.5804847\t-0.3484809\t-0.23164913\t0.3351344\t1.9399989\t-0.6238418\t2.4131138\t0.56315875\t-0.6619385\t0.7226322\t3.0301828\t-0.537477\t-0.5148479\t1.2457952\t-0.035156786\t0.0038073957\t-0.50105065\t-0.22542143\t0.79507375\t-0.6797472\t0.4369036\t-0.6556923\t-0.71257764\t0.842523\t1.168153\t-0.56751305\t1.2122676\t-0.7171157\t-0.6375682\t-0.6348774\t-0.5785726\t-0.73214924\t0.50270844\t-0.46266684\t1.4489454\t-0.38700646\t-0.6088965\t1.3957318\t-0.51874804\t2.1159246\t-0.6530593\t-0.024851084\t-0.59888333\t0.18911964\t-0.5358345\t-0.6222166\t0.19376683\t0.014755368\t-0.55414665\t-0.4696428\t-0.6053274\t0.22089148\t-0.55488074\t0.24218276\t-0.65081346\t-0.60318696\t0.659924\t-0.56329983\t-0.08825785\t-0.639345\t-0.027083099\t-0.63751215\t1.481066\t-0.53909826\t0.40229827\t-0.68776333\t0.7223346\t-0.6918073\t-0.62693447\t0.049732804\t-0.65002286\t-0.21168253\t0.009727299\t-0.55680686\t-0.6456044\t-0.25574428\t-0.48588264\t-0.71772426\t-0.7531246\t-0.4725283\t0.85692835\t-0.30708647\t2.8895497\t-0.4826959\t0.65924776\t-0.5074541\t-0.39449766\t-0.06298071\t1.1019258\t-0.44740248\t0.26116616\t-0.41378984\t-0.64094496\t0.34735852\t0.88798976\t-0.6500554\t-0.4995486\t1.0063698\t-0.7774646\t-0.67159975\t-0.67170393\t-0.47006562\t-0.5561494\t-0.094100624\t-0.47049776\t-0.7183699\t-0.09890795\t-0.6599151\t-0.61235195\t-0.799528\t-0.5958991\t-0.5961882\t-0.53419805\t-0.17983526\t-0.078457534\t1.0881107\t-0.6477621\t-0.5815004\t1.790916\t-0.62075394\t-0.62445724\t1.0470514\t1.1369569\t2.796564\t-0.67020726\t-0.58545256\t2.2493072\t0.528484\t0.5199286\t-0.5639156\t-0.5136348\t-0.44215468\t0.22048092\t-0.7029415\t-0.6352208\t-0.19745034\t0.6001003\t-0.64529026\t-0.631587\t-0.52145916\t-0.68476003\t-0.5925758\t0.2412672\t-0.29952493\t0.033296943\t-0.7680724\t1.2963097\t0.23716837\t-0.6628743\t0.0137838125\t-0.683384\t3.0933921\t-0.27605537\t-0.24247721\t-0.24648625\t-0.6831762\t-0.67644596\t0.09041631\t-0.0870235\t0.8275259\t-0.63977027\t-0.47555566\t-0.588568\t-0.44164154\t-0.5791197\t-0.5512841\t1.861238\t-0.060551345\t-0.056833237\t1.0406823\t-0.62749094\t-0.5422507\t0.41750175\t0.25172496\t-0.47852555\t-0.36199635\t-0.40971822\t0.1049726\t-0.5062285\t-0.6709848\t-0.69386715\t-0.481373\t-0.65100396\t0.28651512\t-0.71602243\t-0.6275605\t-0.3905087\t-0.6981776\t0.3271085\t1.391211\t-0.8038508\t0.70832914\t-0.73018485\t-0.5447662\t-0.61742276\t-0.6534633\t0.5830945\t-0.004030347\t-0.47044614\t-0.6482402\t0.3220634\t1.077738\t-0.62476414\t-0.6583128\t-0.50534487\t0.18389475\t0.9850725\t-0.5561926\t0.07914758\t1.916964\t-0.62447065\t0.62855464\t0.95698535\t1.1300554\t-0.61644304\t-0.4635805\t1.5010269\t-0.43037957\t-0.6291859\t-0.6483807\t0.186557\t0.036331773\t0.920956\t-0.5861831\t-0.47019035\t-0.59126043\t0.46994698\t-0.6811046\t-0.5547614\t1.1410706\t-0.42045763\t1.7019651\t-0.5869171\t-0.5364493\t-0.71200985\t-0.5311079\t3.415893\t2.6726599\t-0.44865486\t2.536608\t-0.032728553\t-0.5780154\t0.44250727\t-0.16620338\t-0.62367845\t0.85426545\t-0.4787713\t0.17900649\t2.1816025\t0.32237065\t0.17274886\t-0.5489194\t-0.6687816\t-0.62331444\t0.527226\t-0.55952317\t-0.6330787\t-0.6756778\t1.0632998\t-0.73007077\t0.8655244\t-0.5563068\t-0.7210105\t-0.4736769\t0.07629979\t-0.4619323\t-0.5301372\t-0.5188687\t-0.7779453\t-0.5511636\t0.06920338\t0.644273\t1.2033467\t-0.7352437\t-0.61582494\t-0.69205695\t0.84463143\t0.6501573\t-0.6900329\t-0.06875408\t-0.6335669\t-0.7927979\t-0.65140545\t-0.54773664\t0.25930458\t1.2992175\t0.5042671\t1.7256842\t0.7275955\t-0.6175546\t-0.4735519\t-0.31053644\t-0.6437589\t-0.6362093\t-0.4980286\t-0.05924201\t1.0999625\t-0.61999637\t0.50024706\t-0.5783037\t-0.63265276\t0.9367605\t1.0552256\t-0.624485\t1.5743426\t-0.6635577\t-0.3704734\t1.4905856\t1.5606068\t0.51483727\t-0.49503195\t-0.6219417\t1.236131\t-0.7140479\t-0.19985345\t1.6453497\t-0.5921287\t-0.25122356\t-0.5988868\t-0.66452193\t-0.70562786\t1.1116987\t-0.4090636\t0.71391904\t-0.68253326\t-0.55096567\t0.29692745\t0.021855652\t0.80976707\t-0.6676015\t-0.68035614\t0.7990009\t0.3743217\t1.7308805\t-0.39844143\t-0.20389384\t-0.7522869\t-0.59465045\t-0.47783846\t-0.189868\t-0.67154586\t-0.34900972\t-0.6207036\t0.6796166\t-0.6108009\t-0.64950424\t-0.5894991\t-0.57587796\t-0.6176074\t-0.5994974\t-0.6213416\t-0.6484237\t0.42586687\t-0.6400218\t0.07455218\t-0.7007099\t-0.28212306\t-0.48364016\t-0.4952819\t-0.6471045\t-0.009717941\t0.009052992\t-0.55979806\t-0.46219397\t-0.6132164\t-0.5378847\t1.5603629\t1.9842507\t-0.6269447\t1.0171154\t-0.51132727\t-0.63025486\t-0.63688064\t0.3612367\t-0.59816146\t-0.5632065\t-0.6459049\t-0.71138895\t-0.5816399\t-0.49940833\t-0.4929026\t-0.7398169\t-0.4832442\t-0.5548996\t0.30212536\t0.5373781\t-0.6024839\t1.0492686\t0.3141206\t-0.5019231\t0.655814\t-0.10403547\t-0.61844975\t0.35397965\t-0.028526545\t0.6035874\t0.1292668\t-0.65107447\t-0.49206764\t0.32716987\n",
      "1.3776337\t-0.5714155\t-0.2587232\t-0.6553513\t1.3532461\t-0.65341413\t-0.7267234\t-0.4896673\t-0.7537334\t-0.25077122\t0.050992966\t-0.72562873\t0.1406585\t-0.6266761\t1.0653365\t0.96198404\t-0.5467274\t0.30261123\t0.6327609\t-0.6497359\t-0.64108604\t-0.28434965\t-0.35651857\t-0.6779002\t-0.28245115\t-0.6690378\t-0.4518578\t0.030088186\t-0.73986673\t-0.18931103\t-0.041653574\t-0.67007643\t-0.52171326\t-0.29881266\t-0.600525\t-0.23231092\t-0.73933\t-0.57338566\t-0.65925777\t1.8833572\t-0.61049384\t0.44560486\t0.14075392\t-0.6682474\t-0.75794554\t-0.59257406\t-0.07511848\t-0.6001429\t-0.651804\t-0.5315948\t0.023931146\t0.723624\t-0.6482407\t-0.13593137\t-0.7311095\t0.59529644\t-0.47955433\t-0.6646769\t-0.69804686\t-0.49380377\t-0.47234848\t-0.47478092\t0.55306476\t0.79116476\t-0.5287406\t-0.06111142\t-0.69643825\t-0.67944384\t-0.59154034\t-0.7467994\t-0.64460987\t-0.46079588\t-0.69849855\t-0.692441\t-0.6081119\t-0.6608871\t0.71966714\t-0.8218076\t-0.47101474\t-0.5426106\t-0.5526179\t1.6324786\t-0.51120186\t-0.4790987\t-0.64532113\t0.028811932\t-0.577085\t-0.6104121\t0.5281577\t-0.039097607\t-0.71985745\t-0.61428136\t1.0950723\t-0.63265276\t1.7796504\t-0.50889117\t-0.6967229\t-0.73169684\t0.13936383\t-0.68441904\t-0.63993174\t-0.76553875\t-0.0690189\t-0.55279887\t1.3697383\t-0.49291843\t0.28409517\t-0.6128263\t-0.5519926\t-0.013880551\t0.31387687\t-0.6965061\t0.19958514\t-0.46852648\t1.6816958\t0.008445114\t2.8924024\t-0.6238418\t1.8272073\t0.17341909\t1.2846789\t-0.58417743\t0.7973143\t-0.537477\t-0.5148479\t0.34587818\t-0.48087424\t0.0909127\t-0.4703402\t-0.682836\t0.4384197\t-0.6797472\t1.0529947\t-0.6556923\t-0.71257764\t-0.02925086\t-0.60108\t-0.63299096\t0.49842006\t-0.7171157\t-0.6375682\t-0.6348774\t0.12574118\t-0.73214924\t0.3981874\t-0.46266684\t0.99739885\t-0.5647883\t-0.6088965\t1.018522\t-0.51874804\t3.6447055\t0.088588715\t-0.16168177\t0.4316172\t-0.70976746\t-0.5358345\t-0.6222166\t-0.58524024\t-0.56878453\t-0.26676238\t-0.4696428\t-0.3541621\t-0.21271363\t-0.18079734\t-0.48824254\t-0.65081346\t-0.60318696\t-0.11717546\t-0.56329983\t0.5343043\t-0.639345\t-0.40191436\t-0.63751215\t-0.60767806\t-0.53909826\t-0.0073986053\t0.44983995\t0.8738009\t-0.6918073\t-0.62693447\t-0.45662212\t-0.65002286\t-0.6848493\t1.9475645\t-0.55680686\t-0.6456044\t-0.70373756\t0.17998844\t-0.107574165\t-0.7531246\t-0.4725283\t-0.6788409\t0.4517892\t1.121084\t-0.4826959\t0.75132203\t-0.5074541\t0.86952305\t2.1392052\t1.6924658\t-0.44740248\t-0.5509034\t-0.493435\t1.1955667\t-0.51704395\t-0.6029111\t-0.6500554\t-0.4995486\t-0.52000505\t-0.025108695\t-0.058374166\t-0.43562713\t-0.64598054\t-0.5561494\t-0.56587017\t0.5579486\t0.36710173\t-0.53188723\t-0.6599151\t-0.43994385\t-0.799528\t-0.5958991\t0.87169635\t-0.06929764\t-0.47800088\t0.97562116\t-0.23208794\t-0.6477621\t-0.5815004\t2.277323\t-0.62075394\t-0.19751352\t-0.5734308\t2.0764236\t2.1207898\t-0.67020726\t-0.58545256\t-0.5507498\t-0.39684898\t0.14172232\t-0.12031591\t-0.5136348\t-0.44215468\t-0.6816496\t0.9461835\t0.0978117\t-0.51101106\t0.65664434\t-0.2258716\t-0.631587\t-0.52145916\t-0.10124171\t-0.5925758\t-0.5095265\t-0.5200247\t-0.6532269\t-0.7680724\t-0.5927339\t-0.61329556\t-0.6628743\t-0.346667\t-0.683384\t0.8354152\t-0.21816382\t1.9323242\t-0.31244957\t-0.6831762\t-0.67644596\t0.042757213\t-0.5247881\t0.6151841\t-0.63977027\t-0.47555566\t-0.588568\t-0.4634904\t-0.5791197\t-0.5512841\t1.633877\t-0.0636791\t-0.517914\t0.34298027\t-0.62749094\t-0.7012117\t0.99376136\t-0.6307094\t-0.47852555\t-0.5130526\t-0.4842003\t-0.6389534\t-0.5062285\t-0.41510683\t1.544627\t-0.481373\t-0.65100396\t-0.664848\t0.87122625\t-0.6275605\t0.12040424\t-0.6981776\t-0.0033897161\t-0.5311089\t-0.7548808\t-0.6605026\t-0.73018485\t0.68097436\t-0.61742276\t-0.6534633\t0.09401286\t-0.5475428\t-0.47044614\t-0.6482402\t-0.031416506\t-0.51402634\t-0.4438041\t0.6428673\t-0.50534487\t-0.6725912\t-0.5148951\t-0.5561926\t-0.45594007\t-0.6112856\t-0.62447065\t-0.6999633\t0.5318935\t-0.6699586\t0.8117211\t-0.15828401\t0.13347578\t-0.43037957\t-0.6291859\t0.63440746\t0.9724966\t1.8258135\t0.77202344\t-0.27735382\t-0.47019035\t-0.59126043\t0.76534235\t-0.6811046\t-0.5547614\t1.9455194\t0.36043268\t0.8312363\t-0.6157184\t-0.5364493\t0.056869686\t-0.5311079\t-0.61185944\t0.5615393\t-0.7814901\t1.793325\t-0.70669377\t-0.5853718\t-0.66932786\t-0.5585858\t-0.62367845\t-0.10432693\t-0.4787713\t-0.4564949\t0.05945313\t-0.20767814\t-0.35012648\t-0.122913\t-0.6687816\t-0.6420673\t1.2881483\t1.313288\t-0.6330787\t-0.6756778\t0.2662569\t-0.73007077\t0.9952432\t-0.5563068\t-0.7210105\t-0.4736769\t-0.61417806\t-0.4619323\t-0.5301372\t-0.5188687\t-0.32171673\t-0.5511636\t-0.46213186\t-0.36939648\t0.50612587\t-0.40164778\t-0.61582494\t0.581302\t3.238738\t-0.661769\t-0.6900329\t-0.4719818\t-0.6335669\t-0.39032048\t-0.65140545\t-0.19066495\t0.29106563\t1.6273549\t-0.6868099\t0.459081\t-0.61867577\t-0.6175546\t0.27739727\t0.015430629\t-0.6437589\t-0.6362093\t-0.050485313\t-0.06652564\t0.57567877\t-0.61999637\t0.79358846\t-0.5783037\t-0.63265276\t-0.30958584\t0.022988081\t-0.624485\t0.19309413\t1.8246684\t0.1240108\t0.8768455\t1.0637047\t2.2979016\t-0.36150196\t0.15229255\t0.30510563\t-0.24800098\t-0.5181872\t-0.084780484\t-0.6898156\t-0.49261582\t-0.5988868\t-0.66452193\t-0.70562786\t0.122772336\t-0.3561841\t-0.4018598\t-0.68253326\t-0.55096567\t-0.05666709\t-0.4313164\t0.58647746\t-0.289331\t-0.68035614\t0.75362533\t-0.64309394\t1.5269258\t1.9408898\t-0.56316394\t-0.7522869\t0.29567719\t-0.47783846\t-0.35840648\t-0.67154586\t-0.5940082\t0.67609406\t1.6258705\t-0.683239\t0.33839643\t-0.5894991\t-0.15334094\t0.7860455\t-0.5994974\t-0.5924538\t-0.6484237\t-0.49718592\t-0.6400218\t0.68910927\t-0.7007099\t2.23881\t-0.48364016\t-0.4952819\t0.06308985\t-0.499587\t-0.5337828\t-0.55979806\t-0.4478871\t-0.6132164\t-0.5378847\t0.03778881\t0.43626726\t-0.6269447\t2.814978\t-0.51132727\t-0.26461604\t-0.63688064\t1.5497985\t-0.59816146\t0.49051863\t-0.6459049\t-0.54030514\t-0.5816399\t-0.49940833\t-0.00710088\t-0.7398169\t-0.4832442\t1.0332335\t-0.4584871\t-0.40195614\t-0.6024839\t0.46805418\t-0.7452056\t-0.5019231\t-0.6273019\t-0.53396827\t-0.61844975\t-0.5771547\t-0.31358904\t2.3046937\t0.35861295\t-0.65107447\t-0.4748875\t0.19909522\n"
     ]
    }
   ],
   "source": [
    "import csv\n",
    "\n",
    "vecs_fname = f\"{tf_embeddings}/feature_vecs.tsv\"\n",
    "\n",
    "with open(vecs_fname, 'w') as outfile:\n",
    "    csv_writer = csv.writer(outfile, delimiter=\"\\t\")\n",
    "    csv_writer.writerows([e.split(',') for e in list(clustered_drawings_df.emb_csv)])\n",
    "\n",
    "!head -n3 {vecs_fname}"
   ]
  },
  {
   "cell_type": "code",
   "execution_count": null,
   "metadata": {},
   "outputs": [
    {
     "data": {
      "text/plain": [
       "'/Users/al/Dropbox/2-Areas/2-Sketchbooks/datasets/full-v2/04_SUBCLUSTERS/tflogs/embeddings/'"
      ]
     },
     "execution_count": null,
     "metadata": {},
     "output_type": "execute_result"
    }
   ],
   "source": [
    "tf_embeddings"
   ]
  },
  {
   "cell_type": "markdown",
   "metadata": {},
   "source": [
    "```         \n",
    "<tf.Variable 'Variable:0' shape=(1923, 512) dtype=float32, numpy=\n",
    "array([[-0.6198182 , -0.5714155 , -0.6871516 , ...,  0.09847462,\n",
    "        -0.49206764, -0.39251342],\n",
    "       [ 1.1073987 ,  0.3512016 , -0.73929733, ..., -0.65107447,\n",
    "        -0.49206764,  0.32716987],\n",
    "       [ 1.3776337 , -0.5714155 , -0.2587232 , ..., -0.65107447,\n",
    "        -0.4748875 ,  0.19909522],\n",
    "       ...,\n",
    "       [ 1.637738  , -0.5714155 , -0.73929733, ..., -0.65107447,\n",
    "        -0.13707963,  0.20361403],\n",
    "       [ 4.6632442 ,  0.29762375, -0.73929733, ...,  0.01897907,\n",
    "        -0.49206764, -0.39251342],\n",
    "       [ 0.71924925,  0.20198071,  1.2284024 , ..., -0.22790754,\n",
    "         0.7221783 , -0.08996937]], dtype=float32)>\n",
    "```"
   ]
  },
  {
   "cell_type": "code",
   "execution_count": null,
   "metadata": {},
   "outputs": [
    {
     "data": {
      "text/plain": [
       "<tf.Variable 'Variable:0' shape=(1923, 512) dtype=float32, numpy=\n",
       "array([[-0.6198182 , -0.5714155 , -0.6871516 , ...,  0.09847462,\n",
       "        -0.49206764, -0.39251342],\n",
       "       [ 1.1073987 ,  0.3512016 , -0.73929733, ..., -0.65107447,\n",
       "        -0.49206764,  0.32716987],\n",
       "       [ 1.3776337 , -0.5714155 , -0.2587232 , ..., -0.65107447,\n",
       "        -0.4748875 ,  0.19909522],\n",
       "       ...,\n",
       "       [ 1.637738  , -0.5714155 , -0.73929733, ..., -0.65107447,\n",
       "        -0.13707963,  0.20361403],\n",
       "       [ 4.6632442 ,  0.29762375, -0.73929733, ...,  0.01897907,\n",
       "        -0.49206764, -0.39251342],\n",
       "       [ 0.71924925,  0.20198071,  1.2284024 , ..., -0.22790754,\n",
       "         0.7221783 , -0.08996937]], dtype=float32)>"
      ]
     },
     "execution_count": null,
     "metadata": {},
     "output_type": "execute_result"
    }
   ],
   "source": [
    "weights\n",
    "\n",
    "# weights = tf.Variable(model.layers[0].get_weights()[0][1:])"
   ]
  },
  {
   "cell_type": "code",
   "execution_count": null,
   "metadata": {},
   "outputs": [
    {
     "data": {
      "text/plain": [
       "'/Users/al/Dropbox/2-Areas/2-Sketchbooks/datasets/full-v2/04_SUBCLUSTERS/tflogs/embedding.ckpt-2'"
      ]
     },
     "execution_count": null,
     "metadata": {},
     "output_type": "execute_result"
    }
   ],
   "source": [
    "\n",
    "# Create a checkpoint from embedding, the filename and key are the\n",
    "# name of the tensor.\n",
    "checkpoint = tf.train.Checkpoint(embedding=weights)\n",
    "checkpoint.save(os.path.join(tf_embeddings, \"embedding.ckpt\"))\n",
    "\n",
    "checkpoint.save(os.path.join(tf_logs, \"embedding.ckpt\"))"
   ]
  },
  {
   "cell_type": "code",
   "execution_count": null,
   "metadata": {},
   "outputs": [],
   "source": [
    "# Set up config.\n",
    "config = projector.ProjectorConfig()\n",
    "embedding = config.embeddings.add()\n",
    "# The name of the tensor will be suffixed by `/.ATTRIBUTES/VARIABLE_VALUE`.\n",
    "embedding.tensor_name = \"embedding/Variable:0\"\n",
    "embedding.metadata_path = 'metadata.tsv'\n",
    "projector.visualize_embeddings(tf_embeddings, config)"
   ]
  },
  {
   "cell_type": "code",
   "execution_count": null,
   "metadata": {},
   "outputs": [],
   "source": [
    "\n",
    "%tensorboard --logdir /Users/al/Dropbox/2-Areas/2-Sketchbooks/datasets/full-v2/04_SUBCLUSTERS/tflogs\n"
   ]
  },
  {
   "cell_type": "code",
   "execution_count": null,
   "metadata": {},
   "outputs": [],
   "source": []
  },
  {
   "cell_type": "code",
   "execution_count": null,
   "metadata": {},
   "outputs": [
    {
     "data": {
      "text/plain": [
       "Launching TensorBoard..."
      ]
     },
     "metadata": {},
     "output_type": "display_data"
    }
   ],
   "source": []
  },
  {
   "cell_type": "code",
   "execution_count": null,
   "metadata": {},
   "outputs": [],
   "source": []
  },
  {
   "cell_type": "code",
   "execution_count": null,
   "metadata": {},
   "outputs": [],
   "source": []
  },
  {
   "cell_type": "code",
   "execution_count": null,
   "metadata": {},
   "outputs": [],
   "source": []
  },
  {
   "cell_type": "code",
   "execution_count": null,
   "metadata": {},
   "outputs": [],
   "source": [
    "#| hide\n",
    "import nbdev\n",
    "\n",
    "nbdev.nbdev_export()"
   ]
  }
 ],
 "metadata": {
  "kernelspec": {
   "display_name": "python3",
   "language": "python",
   "name": "python3"
  }
 },
 "nbformat": 4,
 "nbformat_minor": 4
}
